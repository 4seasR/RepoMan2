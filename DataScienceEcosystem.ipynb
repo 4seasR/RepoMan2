{
 "cells": [
  {
   "cell_type": "markdown",
   "id": "974e7c14-94a6-4c9a-adee-70a574570ca1",
   "metadata": {
    "tags": []
   },
   "source": [
    "# Data Science Tools and Ecosystems"
   ]
  },
  {
   "cell_type": "markdown",
   "id": "3c278553-c3b9-4020-b813-0558ec6aa6c3",
   "metadata": {},
   "source": [
    "**Objectives**\n",
    "- List Data Science Languages\n",
    "- List Data Science Libraries\n",
    "- List Data Science Libraries\n"
   ]
  },
  {
   "cell_type": "markdown",
   "id": "300f0be2-7c8a-4a7b-8981-4a6c10ba5012",
   "metadata": {},
   "source": [
    "In this notebook, Data Science Tools and Ecosystems are summarized"
   ]
  },
  {
   "cell_type": "markdown",
   "id": "b436e949-478f-426e-a52b-fe2e76966d80",
   "metadata": {},
   "source": [
    "Some of the popular languages taht Data Scientists use are:\n",
    "1. Python\n",
    "2. R\n",
    "3. JavaScript"
   ]
  },
  {
   "cell_type": "markdown",
   "id": "0969551c-a376-4f59-9705-66bd9d1ea0f6",
   "metadata": {},
   "source": [
    "Some of the commonly used libraries used by Data Scientists include:\n",
    "1. TensorFlow\n",
    "1. PyTorch\n",
    "3. Pandas"
   ]
  },
  {
   "cell_type": "markdown",
   "id": "4c980cff-27a9-4e86-b476-b4c0e96ccc85",
   "metadata": {},
   "source": [
    "|Data Science Tools|\n",
    "|------------------|\n",
    "|Apache Spark|\n",
    "|Matplotlib|\n",
    "|Scikit-learn|\n"
   ]
  },
  {
   "cell_type": "markdown",
   "id": "82bb1048-6190-4880-9093-af05faf21ac9",
   "metadata": {
    "tags": []
   },
   "source": [
    "### Below are a few examples of evaluating arithmetic expressions in Python"
   ]
  },
  {
   "cell_type": "code",
   "execution_count": 2,
   "id": "86361dd6-bd4a-4f84-9271-01406008d646",
   "metadata": {},
   "outputs": [
    {
     "data": {
      "text/plain": [
       "17"
      ]
     },
     "execution_count": 2,
     "metadata": {},
     "output_type": "execute_result"
    }
   ],
   "source": [
    "(3*4)+5"
   ]
  },
  {
   "cell_type": "code",
   "execution_count": 4,
   "id": "f1ce02c3-f31d-4864-ab07-af952fec62a6",
   "metadata": {},
   "outputs": [
    {
     "data": {
      "text/plain": [
       "3.3333333333333335"
      ]
     },
     "execution_count": 4,
     "metadata": {},
     "output_type": "execute_result"
    }
   ],
   "source": [
    "200/60"
   ]
  },
  {
   "cell_type": "markdown",
   "id": "7a96324d-d417-4709-928d-fcde24a37394",
   "metadata": {},
   "source": [
    "## Author\n",
    "Collin Lee"
   ]
  },
  {
   "cell_type": "code",
   "execution_count": null,
   "id": "f61e4b45-09f1-4743-b4e7-db5497bdac75",
   "metadata": {},
   "outputs": [],
   "source": []
  }
 ],
 "metadata": {
  "kernelspec": {
   "display_name": "Python 3 (ipykernel)",
   "language": "python",
   "name": "python3"
  },
  "language_info": {
   "codemirror_mode": {
    "name": "ipython",
    "version": 3
   },
   "file_extension": ".py",
   "mimetype": "text/x-python",
   "name": "python",
   "nbconvert_exporter": "python",
   "pygments_lexer": "ipython3",
   "version": "3.10.9"
  }
 },
 "nbformat": 4,
 "nbformat_minor": 5
}
